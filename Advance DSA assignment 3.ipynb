{
 "cells": [
  {
   "cell_type": "markdown",
   "id": "e53e15d9",
   "metadata": {},
   "source": [
    "Assignment-3: Trees"
   ]
  },
  {
   "cell_type": "markdown",
   "id": "981b98eb",
   "metadata": {},
   "source": [
    "1.Implement Binary tree"
   ]
  },
  {
   "cell_type": "code",
   "execution_count": 29,
   "id": "1c8a7619",
   "metadata": {},
   "outputs": [],
   "source": [
    "class TreeNode:\n",
    "    def __init__(self, value):\n",
    "        self.value = value\n",
    "        self.left = None\n",
    "        self.right = None\n",
    "\n",
    "class BinaryTree:\n",
    "    def __init__(self, root_value):\n",
    "        self.root = TreeNode(root_value)"
   ]
  },
  {
   "cell_type": "code",
   "execution_count": 30,
   "id": "af09e03c",
   "metadata": {},
   "outputs": [],
   "source": [
    "tree = BinaryTree(1)\n",
    "tree.root.left = TreeNode(2)\n",
    "tree.root.right = TreeNode(3)"
   ]
  },
  {
   "cell_type": "code",
   "execution_count": null,
   "id": "e708a34d",
   "metadata": {},
   "outputs": [],
   "source": []
  },
  {
   "cell_type": "markdown",
   "id": "3b58fecb",
   "metadata": {},
   "source": [
    "2.Find height of a given tree"
   ]
  },
  {
   "cell_type": "code",
   "execution_count": 5,
   "id": "499358c6",
   "metadata": {},
   "outputs": [],
   "source": [
    "def find_height(node):\n",
    "    if node is None:\n",
    "        return -1\n",
    "    left_height = find_height(node.left)\n",
    "    right_height = find_height(node.right)\n",
    "    return max(left_height, right_height) + 1\n",
    "\n"
   ]
  },
  {
   "cell_type": "code",
   "execution_count": 6,
   "id": "535e0a35",
   "metadata": {},
   "outputs": [
    {
     "name": "stdout",
     "output_type": "stream",
     "text": [
      "Height of the tree: 1\n"
     ]
    }
   ],
   "source": [
    "height = find_height(tree.root)\n",
    "print(\"Height of the tree:\", height)\n"
   ]
  },
  {
   "cell_type": "markdown",
   "id": "50d60f31",
   "metadata": {},
   "source": [
    "3.Perform Pre-order, Post-order, In-order traversal"
   ]
  },
  {
   "cell_type": "code",
   "execution_count": 7,
   "id": "b677dcfd",
   "metadata": {},
   "outputs": [],
   "source": [
    "def preorder_traversal(node):\n",
    "    if node:\n",
    "        print(node.value, end=\" \")\n",
    "        preorder_traversal(node.left)\n",
    "        preorder_traversal(node.right)\n",
    "\n",
    "def inorder_traversal(node):\n",
    "    if node:\n",
    "        inorder_traversal(node.left)\n",
    "        print(node.value, end=\" \")\n",
    "        inorder_traversal(node.right)\n",
    "\n",
    "def postorder_traversal(node):\n",
    "    if node:\n",
    "        postorder_traversal(node.left)\n",
    "        postorder_traversal(node.right)\n",
    "        print(node.value, end=\" \")\n",
    "\n"
   ]
  },
  {
   "cell_type": "code",
   "execution_count": 8,
   "id": "8e07fe55",
   "metadata": {},
   "outputs": [
    {
     "name": "stdout",
     "output_type": "stream",
     "text": [
      "Pre-order traversal:\n",
      "1 2 3 \n",
      "In-order traversal:\n",
      "2 1 3 \n",
      "Post-order traversal:\n",
      "2 3 1 "
     ]
    }
   ],
   "source": [
    "print(\"Pre-order traversal:\")\n",
    "preorder_traversal(tree.root)\n",
    "print(\"\\nIn-order traversal:\")\n",
    "inorder_traversal(tree.root)\n",
    "print(\"\\nPost-order traversal:\")\n",
    "postorder_traversal(tree.root)\n"
   ]
  },
  {
   "cell_type": "markdown",
   "id": "7dd56a03",
   "metadata": {},
   "source": [
    "4.Function to print all the leaves in a given binary tree"
   ]
  },
  {
   "cell_type": "code",
   "execution_count": 9,
   "id": "71aeec2b",
   "metadata": {},
   "outputs": [],
   "source": [
    "def print_leaves(node):\n",
    "    if node:\n",
    "        if node.left is None and node.right is None:\n",
    "            print(node.value, end=\" \")\n",
    "        print_leaves(node.left)\n",
    "        print_leaves(node.right)\n",
    "\n"
   ]
  },
  {
   "cell_type": "code",
   "execution_count": 10,
   "id": "9b8afdd0",
   "metadata": {},
   "outputs": [
    {
     "name": "stdout",
     "output_type": "stream",
     "text": [
      "Leaves of the tree:\n",
      "2 3 "
     ]
    }
   ],
   "source": [
    "\n",
    "print(\"Leaves of the tree:\")\n",
    "print_leaves(tree.root)\n"
   ]
  },
  {
   "cell_type": "markdown",
   "id": "044f4373",
   "metadata": {},
   "source": [
    "5.Implement BFS (Breath First Search) and DFS (Depth First Search)"
   ]
  },
  {
   "cell_type": "code",
   "execution_count": 32,
   "id": "70a2bd40",
   "metadata": {},
   "outputs": [],
   "source": [
    "from collections import deque\n",
    "\n",
    "def bfs(root):\n",
    "    if not root:\n",
    "        return\n",
    "    queue = deque()\n",
    "    queue.append(root)\n",
    "    while queue:\n",
    "        node = queue.popleft()\n",
    "        print(node.value, end=\" \")\n",
    "        if node.left:\n",
    "            queue.append(node.left)\n",
    "        if node.right:\n",
    "            queue.append(node.right)\n",
    "\n",
    "def dfs(root):\n",
    "    if not root:\n",
    "        return\n",
    "    stack = []\n",
    "    stack.append(root)\n",
    "    while stack:\n",
    "        node = stack.pop()\n",
    "        print(node.value, end=\" \")\n",
    "        if node.right:\n",
    "            stack.append(node.right)\n",
    "        if node.left:\n",
    "            stack.append(node.left)\n",
    "\n"
   ]
  },
  {
   "cell_type": "code",
   "execution_count": 33,
   "id": "0e0d6e80",
   "metadata": {
    "scrolled": true
   },
   "outputs": [
    {
     "name": "stdout",
     "output_type": "stream",
     "text": [
      "BFS traversal:\n",
      "1 2 3 4 5 6 7 \n",
      "DFS traversal:\n",
      "1 2 4 5 3 6 7 "
     ]
    }
   ],
   "source": [
    "\n",
    "print(\"BFS traversal:\")\n",
    "bfs(root)\n",
    "print(\"\\nDFS traversal:\")\n",
    "dfs(root)\n"
   ]
  },
  {
   "cell_type": "markdown",
   "id": "d9e519f6",
   "metadata": {},
   "source": [
    "6.Find sum of all left leaves in a given Binary Tree"
   ]
  },
  {
   "cell_type": "code",
   "execution_count": 34,
   "id": "97349d60",
   "metadata": {},
   "outputs": [],
   "source": [
    "def sum_of_left_leaves(root):\n",
    "    if not root:\n",
    "        return 0\n",
    "    left_sum = 0\n",
    "    if root.left and not root.left.left and not root.left.right:\n",
    "        left_sum += root.left.value\n",
    "    left_sum += sum_of_left_leaves(root.left)\n",
    "    left_sum += sum_of_left_leaves(root.right)\n",
    "    return left_sum\n",
    "\n"
   ]
  },
  {
   "cell_type": "code",
   "execution_count": 35,
   "id": "4b65e9b9",
   "metadata": {},
   "outputs": [
    {
     "name": "stdout",
     "output_type": "stream",
     "text": [
      "Sum of left leaves: 10\n"
     ]
    }
   ],
   "source": [
    "# Example usage:\n",
    "left_leaves_sum = sum_of_left_leaves(root)\n",
    "print(\"Sum of left leaves:\", left_leaves_sum)\n"
   ]
  },
  {
   "cell_type": "markdown",
   "id": "4e621d5c",
   "metadata": {},
   "source": [
    "7.Find sum of all nodes of the given perfect binary tree"
   ]
  },
  {
   "cell_type": "code",
   "execution_count": 20,
   "id": "9ba02825",
   "metadata": {},
   "outputs": [],
   "source": [
    "class TreeNode:\n",
    "    def __init__(self, value):\n",
    "        self.value = value\n",
    "        self.left = None\n",
    "        self.right = None\n",
    "\n",
    "def sum_of_nodes(root):\n",
    "    if root is None:\n",
    "        return 0\n",
    "    return root.value + sum_of_nodes(root.left) + sum_of_nodes(root.right)\n",
    "\n",
    "\n"
   ]
  },
  {
   "cell_type": "code",
   "execution_count": 21,
   "id": "0b95912c",
   "metadata": {},
   "outputs": [
    {
     "name": "stdout",
     "output_type": "stream",
     "text": [
      "Sum of all nodes in the tree: 28\n"
     ]
    }
   ],
   "source": [
    "\n",
    "root = TreeNode(1)\n",
    "root.left = TreeNode(2)\n",
    "root.right = TreeNode(3)\n",
    "root.left.left = TreeNode(4)\n",
    "root.left.right = TreeNode(5)\n",
    "root.right.left = TreeNode(6)\n",
    "root.right.right = TreeNode(7)\n",
    "\n",
    "total_sum = sum_of_nodes(root)\n",
    "print(\"Sum of all nodes in the tree:\", total_sum)"
   ]
  },
  {
   "cell_type": "markdown",
   "id": "42e83d53",
   "metadata": {},
   "source": [
    "8.Count subtress that sum up to a given value x in a binary tree"
   ]
  },
  {
   "cell_type": "code",
   "execution_count": 22,
   "id": "b70de10b",
   "metadata": {},
   "outputs": [],
   "source": [
    "class TreeNode:\n",
    "    def __init__(self, value):\n",
    "        self.value = value\n",
    "        self.left = None\n",
    "        self.right = None\n",
    "\n",
    "def count_subtrees_with_sum(root, x):\n",
    "    if root is None:\n",
    "        return 0\n",
    "\n",
    "    left_count = count_subtrees_with_sum(root.left, x)\n",
    "    right_count = count_subtrees_with_sum(root.right, x)\n",
    "\n",
    "    if root.value + left_count + right_count == x:\n",
    "        return 1 + left_count + right_count\n",
    "    else:\n",
    "        return left_count + right_count\n",
    "\n"
   ]
  },
  {
   "cell_type": "code",
   "execution_count": 23,
   "id": "7bfcb65a",
   "metadata": {},
   "outputs": [
    {
     "name": "stdout",
     "output_type": "stream",
     "text": [
      "Number of subtrees with sum 9: 0\n"
     ]
    }
   ],
   "source": [
    "\n",
    "root = TreeNode(5)\n",
    "root.left = TreeNode(3)\n",
    "root.right = TreeNode(1)\n",
    "root.left.left = TreeNode(4)\n",
    "root.left.right = TreeNode(8)\n",
    "root.right.left = TreeNode(2)\n",
    "root.right.right = TreeNode(6)\n",
    "\n",
    "x = 9\n",
    "count = count_subtrees_with_sum(root, x)\n",
    "print(f\"Number of subtrees with sum {x}: {count}\")\n"
   ]
  },
  {
   "cell_type": "markdown",
   "id": "e885148a",
   "metadata": {},
   "source": [
    "9.Find maximum level sum in Binary Tree"
   ]
  },
  {
   "cell_type": "code",
   "execution_count": 24,
   "id": "3d5e8c15",
   "metadata": {},
   "outputs": [],
   "source": [
    "from collections import deque\n",
    "\n",
    "class TreeNode:\n",
    "    def __init__(self, value):\n",
    "        self.value = value\n",
    "        self.left = None\n",
    "        self.right = None\n",
    "\n",
    "def max_level_sum(root):\n",
    "    if root is None:\n",
    "        return 0\n",
    "\n",
    "    max_sum = float(\"-inf\")\n",
    "    queue = deque([root])\n",
    "\n",
    "    while queue:\n",
    "        level_sum = sum(node.value for node in queue)\n",
    "        max_sum = max(max_sum, level_sum)\n",
    "        \n",
    "        for _ in range(len(queue)):\n",
    "            node = queue.popleft()\n",
    "            if node.left:\n",
    "                queue.append(node.left)\n",
    "            if node.right:\n",
    "                queue.append(node.right)\n",
    "\n",
    "    return max_sum\n",
    "\n"
   ]
  },
  {
   "cell_type": "code",
   "execution_count": 25,
   "id": "dae237d0",
   "metadata": {},
   "outputs": [
    {
     "name": "stdout",
     "output_type": "stream",
     "text": [
      "Maximum level sum in the tree: 15\n"
     ]
    }
   ],
   "source": [
    "\n",
    "root = TreeNode(1)\n",
    "root.left = TreeNode(2)\n",
    "root.right = TreeNode(3)\n",
    "root.left.left = TreeNode(4)\n",
    "root.left.right = TreeNode(5)\n",
    "root.right.right = TreeNode(6)\n",
    "\n",
    "max_sum = max_level_sum(root)\n",
    "print(\"Maximum level sum in the tree:\", max_sum)\n"
   ]
  },
  {
   "cell_type": "markdown",
   "id": "b1add277",
   "metadata": {},
   "source": [
    "10.Print the nodes at odd levels of a tree"
   ]
  },
  {
   "cell_type": "code",
   "execution_count": 26,
   "id": "54c1d2ae",
   "metadata": {},
   "outputs": [],
   "source": [
    "class TreeNode:\n",
    "    def __init__(self, value):\n",
    "        self.value = value\n",
    "        self.left = None\n",
    "        self.right = None\n",
    "\n",
    "def print_odd_level_nodes(root, level=1):\n",
    "    if root is None:\n",
    "        return\n",
    "\n",
    "    if level % 2 != 0:\n",
    "        print(root.value)\n",
    "\n",
    "    print_odd_level_nodes(root.left, level + 1)\n",
    "    print_odd_level_nodes(root.right, level + 1)"
   ]
  },
  {
   "cell_type": "code",
   "execution_count": 27,
   "id": "181d3d89",
   "metadata": {},
   "outputs": [
    {
     "name": "stdout",
     "output_type": "stream",
     "text": [
      "Nodes at odd levels:\n",
      "1\n",
      "4\n",
      "5\n",
      "6\n",
      "7\n"
     ]
    }
   ],
   "source": [
    "\n",
    "root = TreeNode(1)\n",
    "root.left = TreeNode(2)\n",
    "root.right = TreeNode(3)\n",
    "root.left.left = TreeNode(4)\n",
    "root.left.right = TreeNode(5)\n",
    "root.right.left = TreeNode(6)\n",
    "root.right.right = TreeNode(7)\n",
    "\n",
    "print(\"Nodes at odd levels:\")\n",
    "print_odd_level_nodes(root)"
   ]
  }
 ],
 "metadata": {
  "kernelspec": {
   "display_name": "Python 3 (ipykernel)",
   "language": "python",
   "name": "python3"
  },
  "language_info": {
   "codemirror_mode": {
    "name": "ipython",
    "version": 3
   },
   "file_extension": ".py",
   "mimetype": "text/x-python",
   "name": "python",
   "nbconvert_exporter": "python",
   "pygments_lexer": "ipython3",
   "version": "3.10.9"
  }
 },
 "nbformat": 4,
 "nbformat_minor": 5
}
