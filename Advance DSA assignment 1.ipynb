{
 "cells": [
  {
   "cell_type": "markdown",
   "id": "228f8c65",
   "metadata": {},
   "source": [
    "1.Delete the elements in an linked list whose sum is equal to zero"
   ]
  },
  {
   "cell_type": "code",
   "execution_count": 47,
   "id": "40074149",
   "metadata": {},
   "outputs": [],
   "source": [
    "class Node:\n",
    "    def __init__(self, data):\n",
    "        self.data = data\n",
    "        self.next = None\n",
    "\n",
    "class LinkedList:\n",
    "    def __init__(self):\n",
    "        self.head = None\n",
    "\n",
    "    def insert(self, data):\n",
    "        new_node = Node(data)\n",
    "        new_node.next = self.head\n",
    "        self.head = new_node\n",
    "\n",
    "    def deleteZeroSumSublists(self):\n",
    "        cum_sum = 0\n",
    "        sum_dict = {}\n",
    "        current = self.head\n",
    "\n",
    "        while current is not None:\n",
    "            cum_sum += current.data\n",
    "\n",
    "            if cum_sum == 0:\n",
    "                self.head = current.next\n",
    "                sum_dict = {}  # Reset the sum_dict\n",
    "            elif cum_sum in sum_dict:\n",
    "                prev_node = sum_dict[cum_sum].next\n",
    "                sum_dict[cum_sum].next = current.next\n",
    "                current = prev_node\n",
    "            else:\n",
    "                sum_dict[cum_sum] = current\n",
    "\n",
    "            current = current.next\n",
    "\n",
    "    def display(self):\n",
    "        current = self.head\n",
    "        while current:\n",
    "            print(current.data, end=\" -> \")\n",
    "            current = current.next\n",
    "        print(\"None\")"
   ]
  },
  {
   "cell_type": "code",
   "execution_count": 50,
   "id": "34caf1f0",
   "metadata": {},
   "outputs": [
    {
     "name": "stdout",
     "output_type": "stream",
     "text": [
      "Original Linked List:\n",
      "9 -> -12 -> 4 -> 8 -> -6 -> 6 -> None\n",
      "Linked List after deleting zero-sum sublists:\n",
      "9 -> -6 -> 6 -> None\n"
     ]
    }
   ],
   "source": [
    "llist = LinkedList()\n",
    "llist.insert(6)\n",
    "llist.insert(-6)\n",
    "llist.insert(8)\n",
    "llist.insert(4)\n",
    "llist.insert(-12)\n",
    "llist.insert(9)\n",
    "\n",
    "print(\"Original Linked List:\")\n",
    "llist.display()\n",
    "\n",
    "llist.deleteZeroSumSublists()\n",
    "\n",
    "print(\"Linked List after deleting zero-sum sublists:\")\n",
    "llist.display()\n"
   ]
  },
  {
   "cell_type": "markdown",
   "id": "698453e3",
   "metadata": {},
   "source": [
    "2.Reverse a linked list in groups of given size"
   ]
  },
  {
   "cell_type": "code",
   "execution_count": 51,
   "id": "e00f2167",
   "metadata": {},
   "outputs": [],
   "source": [
    "class ListNode:\n",
    "    def __init__(self, val=0, next=None):\n",
    "        self.val = val\n",
    "        self.next = next\n",
    "\n",
    "def reverse_in_groups(head, k):\n",
    "    if not head or k <= 1:\n",
    "        return head\n",
    "\n",
    "    # Helper function to reverse a sublist\n",
    "    def reverse_sublist(start, end):\n",
    "        prev = None\n",
    "        current = start\n",
    "        while current != end:\n",
    "            next_node = current.next\n",
    "            current.next = prev\n",
    "            prev = current\n",
    "            current = next_node\n",
    "        return prev\n",
    "\n",
    "    dummy = ListNode(0)\n",
    "    dummy.next = head\n",
    "    prev_group_end = dummy\n",
    "    while True:\n",
    "        group_start = prev_group_end.next\n",
    "        group_end = group_start\n",
    "        for i in range(k):\n",
    "            if not group_end:\n",
    "                return dummy.next\n",
    "            group_end = group_end.next\n",
    "\n",
    "        next_group_start = group_end.next\n",
    "        group_end.next = None\n",
    "        prev_group_end.next = reverse_sublist(group_start, group_end)\n",
    "        group_start.next = next_group_start\n",
    "        prev_group_end = group_start\n",
    "        \n",
    "\n",
    "head = ListNode(1, ListNode(2, ListNode(3, ListNode(4, ListNode(5, ListNode(6))))))\n",
    "\n",
    "k = 3  \n",
    "new_head = reverse_in_groups(head, k)\n"
   ]
  },
  {
   "cell_type": "markdown",
   "id": "ed44eda9",
   "metadata": {},
   "source": [
    "3.Merge a linked list into another linked list at alternate positions."
   ]
  },
  {
   "cell_type": "code",
   "execution_count": 52,
   "id": "e12ab2b6",
   "metadata": {},
   "outputs": [],
   "source": [
    "class ListNode:\n",
    "    def __init__(self, val=0, next=None):\n",
    "        self.val = val\n",
    "        self.next = next\n",
    "\n",
    "def merge_alternate(head1, head2):\n",
    "    if not head1:\n",
    "        return head2\n",
    "    if not head2:\n",
    "        return head1\n",
    "\n",
    "    current1 = head1\n",
    "    current2 = head2\n",
    "    while current1 and current2:\n",
    "        next1 = current1.next\n",
    "        next2 = current2.next\n",
    "\n",
    "        current1.next = current2\n",
    "        current2.next = next1\n",
    "\n",
    "        current1 = next1\n",
    "        current2 = next2\n",
    "\n",
    "    return head1\n"
   ]
  },
  {
   "cell_type": "code",
   "execution_count": 53,
   "id": "bf42dc38",
   "metadata": {},
   "outputs": [],
   "source": [
    "head1 = ListNode(1, ListNode(2, ListNode(3)))\n",
    "head2 = ListNode(4, ListNode(5))\n",
    "\n",
    "merged_head = merge_alternate(head1, head2)"
   ]
  },
  {
   "cell_type": "markdown",
   "id": "49d12b8b",
   "metadata": {},
   "source": [
    "4.In an array, Count Pairs with given sum"
   ]
  },
  {
   "cell_type": "code",
   "execution_count": 54,
   "id": "85513f7c",
   "metadata": {},
   "outputs": [],
   "source": [
    "def count_pairs_with_sum(arr, target_sum):\n",
    "    if not arr or len(arr) < 2:\n",
    "        return 0\n",
    "\n",
    "    arr.sort() \n",
    "\n",
    "    left, right = 0, len(arr) - 1\n",
    "    count = 0\n",
    "\n",
    "    while left < right:\n",
    "        current_sum = arr[left] + arr[right]\n",
    "\n",
    "        if current_sum == target_sum:\n",
    "            count += 1\n",
    "            left += 1\n",
    "            right -= 1\n",
    "        elif current_sum < target_sum:\n",
    "            left += 1\n",
    "        else:\n",
    "            right -= 1\n",
    "\n",
    "    return count\n",
    "\n"
   ]
  },
  {
   "cell_type": "code",
   "execution_count": 55,
   "id": "960035ee",
   "metadata": {},
   "outputs": [
    {
     "name": "stdout",
     "output_type": "stream",
     "text": [
      "Number of pairs with sum 7 is 3\n"
     ]
    }
   ],
   "source": [
    "arr = [1, 2, 3, 4, 5, 6]\n",
    "target_sum = 7\n",
    "result = count_pairs_with_sum(arr, target_sum)\n",
    "print(\"Number of pairs with sum\", target_sum, \"is\", result)\n"
   ]
  },
  {
   "cell_type": "markdown",
   "id": "b34aac2a",
   "metadata": {},
   "source": [
    "5.Find duplicates in an array"
   ]
  },
  {
   "cell_type": "code",
   "execution_count": 35,
   "id": "6e47916b",
   "metadata": {},
   "outputs": [],
   "source": [
    "def find_duplicates(arr):\n",
    "    arr.sort()\n",
    "    duplicates = []\n",
    "    \n",
    "    for i in range(1, len(arr)):\n",
    "        if arr[i] == arr[i - 1]:\n",
    "            duplicates.append(arr[i])\n",
    "    \n",
    "    return duplicates"
   ]
  },
  {
   "cell_type": "code",
   "execution_count": 36,
   "id": "f3932be3",
   "metadata": {},
   "outputs": [
    {
     "name": "stdout",
     "output_type": "stream",
     "text": [
      "Duplicates: [2, 4]\n"
     ]
    }
   ],
   "source": [
    "arr = [1, 2, 3, 4, 2, 5, 6, 4]\n",
    "duplicate_values = find_duplicates(arr)\n",
    "print(\"Duplicates:\", duplicate_values)"
   ]
  },
  {
   "cell_type": "markdown",
   "id": "da78d414",
   "metadata": {},
   "source": [
    "6.Find the Kth largest and Kth smallest number in an array"
   ]
  },
  {
   "cell_type": "code",
   "execution_count": 37,
   "id": "06aec4ea",
   "metadata": {},
   "outputs": [],
   "source": [
    "import heapq\n",
    "\n",
    "def kth_largest_and_smallest_heap(arr, k):\n",
    "    if k < 1 or k > len(arr):\n",
    "        return None\n",
    "\n",
    "    kth_largest = heapq.nlargest(k, arr)[-1]\n",
    "    kth_smallest = heapq.nsmallest(k, arr)[-1]\n",
    "\n",
    "    return kth_largest, kth_smallest"
   ]
  },
  {
   "cell_type": "code",
   "execution_count": 38,
   "id": "84795b2b",
   "metadata": {},
   "outputs": [
    {
     "name": "stdout",
     "output_type": "stream",
     "text": [
      "3th largest number is 8\n",
      "3th smallest number is 6\n"
     ]
    }
   ],
   "source": [
    "arr = [12, 3, 1, 15, 8, 6]\n",
    "k = 3\n",
    "kth_largest, kth_smallest = kth_largest_and_smallest_heap(arr, k)\n",
    "print(f\"{k}th largest number is {kth_largest}\")\n",
    "print(f\"{k}th smallest number is {kth_smallest}\")"
   ]
  },
  {
   "cell_type": "markdown",
   "id": "f80ae009",
   "metadata": {},
   "source": [
    "7.Move all the negative elements to one side of the array"
   ]
  },
  {
   "cell_type": "code",
   "execution_count": 39,
   "id": "ff917a8c",
   "metadata": {},
   "outputs": [],
   "source": [
    "def move_negatives_to_one_side(arr):\n",
    "    left = 0\n",
    "    right = len(arr) - 1\n",
    "\n",
    "    while left <= right:\n",
    "        if arr[left] < 0 and arr[right] < 0:\n",
    "            # Both elements are negative, move the left pointer to the right\n",
    "            left += 1\n",
    "        elif arr[left] >= 0 and arr[right] < 0:\n",
    "            # Left element is non-negative, right element is negative,\n",
    "            # swap them and move both pointers\n",
    "            arr[left], arr[right] = arr[right], arr[left]\n",
    "            left += 1\n",
    "            right -= 1\n",
    "        elif arr[left] >= 0 and arr[right] >= 0:\n",
    "            # Both elements are non-negative, move the right pointer to the left\n",
    "            right -= 1\n",
    "        else:\n",
    "            # Left element is negative, right element is non-negative,\n",
    "            # move both pointers\n",
    "            left += 1\n",
    "            right -= 1"
   ]
  },
  {
   "cell_type": "code",
   "execution_count": 40,
   "id": "f539caa0",
   "metadata": {},
   "outputs": [
    {
     "name": "stdout",
     "output_type": "stream",
     "text": [
      "Array after moving negatives to one side: [-12, -6, -13, -5, -3, -7, 5, 6, 11]\n"
     ]
    }
   ],
   "source": [
    "arr = [-12, 11, -13, -5, 6, -7, 5, -3, -6]\n",
    "move_negatives_to_one_side(arr)\n",
    "print(\"Array after moving negatives to one side:\", arr)"
   ]
  },
  {
   "cell_type": "markdown",
   "id": "bd17ef83",
   "metadata": {},
   "source": [
    "8.Reverse a string using a stack data structure"
   ]
  },
  {
   "cell_type": "code",
   "execution_count": 41,
   "id": "8c5277d5",
   "metadata": {},
   "outputs": [],
   "source": [
    "def reverse_string_using_stack(input_string):\n",
    "    stack = []\n",
    "    reversed_string = \"\"\n",
    "\n",
    "    \n",
    "    for char in input_string:\n",
    "        stack.append(char)\n",
    "\n",
    "    \n",
    "    while stack:\n",
    "        reversed_string += stack.pop()\n",
    "\n",
    "    return reversed_string"
   ]
  },
  {
   "cell_type": "code",
   "execution_count": 42,
   "id": "dbceff66",
   "metadata": {},
   "outputs": [
    {
     "name": "stdout",
     "output_type": "stream",
     "text": [
      "Original String: Hello, World!\n",
      "Reversed String: !dlroW ,olleH\n"
     ]
    }
   ],
   "source": [
    "input_string = \"Hello, World!\"\n",
    "reversed_str = reverse_string_using_stack(input_string)\n",
    "print(\"Original String:\", input_string)\n",
    "print(\"Reversed String:\", reversed_str)\n"
   ]
  },
  {
   "cell_type": "markdown",
   "id": "2ab8a0cd",
   "metadata": {},
   "source": [
    "9.Evaluate a postfix expression using stack"
   ]
  },
  {
   "cell_type": "code",
   "execution_count": 43,
   "id": "0701acbc",
   "metadata": {},
   "outputs": [],
   "source": [
    "def evaluate_postfix(expression):\n",
    "    stack = []\n",
    "    operators = set(['+', '-', '*', '/', '^'])\n",
    "\n",
    "    for char in expression:\n",
    "        if char not in operators:\n",
    "            stack.append(int(char))  # Operand, push onto the stack\n",
    "        else:\n",
    "            operand2 = stack.pop()\n",
    "            operand1 = stack.pop()\n",
    "            if char == '+':\n",
    "                result = operand1 + operand2\n",
    "            elif char == '-':\n",
    "                result = operand1 - operand2\n",
    "            elif char == '*':\n",
    "                result = operand1 * operand2\n",
    "            elif char == '/':\n",
    "                result = operand1 / operand2\n",
    "            elif char == '^':\n",
    "                result = operand1 ** operand2\n",
    "            stack.append(result)  # Push the result back onto the stack\n",
    "\n",
    "    return stack[0]  # The final result should be on the top of the stack\n",
    "\n"
   ]
  },
  {
   "cell_type": "code",
   "execution_count": 44,
   "id": "e1f9c073",
   "metadata": {},
   "outputs": [
    {
     "name": "stdout",
     "output_type": "stream",
     "text": [
      "Result of postfix expression evaluation: 9\n"
     ]
    }
   ],
   "source": [
    "postfix_expression = \"235*+8-\"\n",
    "result = evaluate_postfix(postfix_expression)\n",
    "print(\"Result of postfix expression evaluation:\", result)\n"
   ]
  },
  {
   "cell_type": "markdown",
   "id": "080a3049",
   "metadata": {},
   "source": [
    "10.Implement a queue using the stack data structure"
   ]
  },
  {
   "cell_type": "code",
   "execution_count": 45,
   "id": "58579d10",
   "metadata": {},
   "outputs": [],
   "source": [
    "class QueueUsingStacks:\n",
    "    def __init__(self):\n",
    "        self.stack1 = []  \n",
    "        self.stack2 = []  \n",
    "\n",
    "    def enqueue(self, item):\n",
    "        self.stack1.append(item)\n",
    "\n",
    "    def dequeue(self):\n",
    "        if not self.stack2:\n",
    "           \n",
    "            while self.stack1:\n",
    "                self.stack2.append(self.stack1.pop())\n",
    "        if not self.stack2:\n",
    "           \n",
    "            return None\n",
    "        return self.stack2.pop()\n",
    "\n",
    "    def peek(self):\n",
    "        if not self.stack2:\n",
    "           \n",
    "            while self.stack1:\n",
    "                self.stack2.append(self.stack1.pop())\n",
    "        if not self.stack2:\n",
    "            \n",
    "            return None\n",
    "        return self.stack2[-1]\n",
    "\n",
    "    def is_empty(self):\n",
    "        return not self.stack1 and not self.stack2\n",
    "\n",
    "    def size(self):\n",
    "        return len(self.stack1) + len(self.stack2)\n",
    "\n",
    "\n"
   ]
  },
  {
   "cell_type": "code",
   "execution_count": 46,
   "id": "fc0dd330",
   "metadata": {},
   "outputs": [
    {
     "name": "stdout",
     "output_type": "stream",
     "text": [
      "Queue size: 3\n",
      "Dequeue: 1\n",
      "Dequeue: 2\n",
      "Peek: 3\n",
      "Dequeue: 3\n",
      "Dequeue: 4\n",
      "Is empty: True\n"
     ]
    }
   ],
   "source": [
    "queue = QueueUsingStacks()\n",
    "\n",
    "queue.enqueue(1)\n",
    "queue.enqueue(2)\n",
    "queue.enqueue(3)\n",
    "\n",
    "print(\"Queue size:\", queue.size())  # Output: 3\n",
    "\n",
    "print(\"Dequeue:\", queue.dequeue())  # Output: 1\n",
    "print(\"Dequeue:\", queue.dequeue())  # Output: 2\n",
    "\n",
    "queue.enqueue(4)\n",
    "\n",
    "print(\"Peek:\", queue.peek())  # Output: 3\n",
    "print(\"Dequeue:\", queue.dequeue())  # Output: 3\n",
    "print(\"Dequeue:\", queue.dequeue())  # Output: 4\n",
    "\n",
    "print(\"Is empty:\", queue.is_empty())  # Output: True"
   ]
  },
  {
   "cell_type": "code",
   "execution_count": null,
   "id": "037be91e",
   "metadata": {},
   "outputs": [],
   "source": []
  }
 ],
 "metadata": {
  "kernelspec": {
   "display_name": "Python 3 (ipykernel)",
   "language": "python",
   "name": "python3"
  },
  "language_info": {
   "codemirror_mode": {
    "name": "ipython",
    "version": 3
   },
   "file_extension": ".py",
   "mimetype": "text/x-python",
   "name": "python",
   "nbconvert_exporter": "python",
   "pygments_lexer": "ipython3",
   "version": "3.10.9"
  }
 },
 "nbformat": 4,
 "nbformat_minor": 5
}
