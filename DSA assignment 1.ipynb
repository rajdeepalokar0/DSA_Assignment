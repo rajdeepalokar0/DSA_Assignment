{
 "cells": [
  {
   "cell_type": "markdown",
   "id": "4fa24ae3",
   "metadata": {},
   "source": [
    "Q1. Write a program to find all pairs of an integer array whose sum is equal to a given number?"
   ]
  },
  {
   "cell_type": "code",
   "execution_count": 2,
   "id": "800e82a4",
   "metadata": {},
   "outputs": [],
   "source": [
    "def find_pairs_with_sum(arr, target_sum):\n",
    "    seen = {}\n",
    "    pairs = []\n",
    "\n",
    "    for num in arr:\n",
    "       \n",
    "        complement = target_sum - num\n",
    "\n",
    "      \n",
    "        if complement in seen:\n",
    "            pairs.append((num, complement))\n",
    "\n",
    "       \n",
    "        seen[num] = True\n",
    "\n",
    "    return pairs"
   ]
  },
  {
   "cell_type": "code",
   "execution_count": 3,
   "id": "e1a2ec5c",
   "metadata": {},
   "outputs": [
    {
     "name": "stdout",
     "output_type": "stream",
     "text": [
      "[(3, 4), (5, 2), (1, 6)]\n"
     ]
    }
   ],
   "source": [
    "my_array = [2, 4, 3, 5, 6, 1, 7]\n",
    "target = 7\n",
    "result = find_pairs_with_sum(my_array, target)\n",
    "print(result)"
   ]
  },
  {
   "cell_type": "markdown",
   "id": "5fbf47df",
   "metadata": {},
   "source": [
    "Q2. Write a program to reverse an array in place? In place means you cannot create a new array. You have to update the original array."
   ]
  },
  {
   "cell_type": "code",
   "execution_count": 4,
   "id": "358a5dd6",
   "metadata": {},
   "outputs": [],
   "source": [
    "def reverse_array_in_place(arr):\n",
    "    \n",
    "    length = len(arr)\n",
    "    \n",
    "    start = 0\n",
    "    end = length - 1\n",
    "    \n",
    "    while start < end:\n",
    "       \n",
    "        arr[start], arr[end] = arr[end], arr[start]\n",
    "        \n",
    "        start += 1\n",
    "        end -= 1"
   ]
  },
  {
   "cell_type": "code",
   "execution_count": 5,
   "id": "3f476e78",
   "metadata": {},
   "outputs": [
    {
     "name": "stdout",
     "output_type": "stream",
     "text": [
      "[5, 4, 3, 2, 1]\n"
     ]
    }
   ],
   "source": [
    "my_array = [1, 2, 3, 4, 5]\n",
    "reverse_array_in_place(my_array)\n",
    "print(my_array) "
   ]
  },
  {
   "cell_type": "markdown",
   "id": "125a1441",
   "metadata": {},
   "source": [
    "Q3. Write a program to check if two strings are a rotation of each other?"
   ]
  },
  {
   "cell_type": "code",
   "execution_count": 6,
   "id": "a28cdb69",
   "metadata": {},
   "outputs": [],
   "source": [
    "def are_rotations(str1, str2):\n",
    "   \n",
    "    if len(str1) != len(str2):\n",
    "        return False\n",
    "\n",
    "    concatenated_str = str1 + str1\n",
    "\n",
    "   \n",
    "    if str2 in concatenated_str:\n",
    "        return True\n",
    "    else:\n",
    "        return False"
   ]
  },
  {
   "cell_type": "code",
   "execution_count": 7,
   "id": "b3d38f98",
   "metadata": {},
   "outputs": [
    {
     "name": "stdout",
     "output_type": "stream",
     "text": [
      "True\n"
     ]
    }
   ],
   "source": [
    "string1 = \"abcdefg\"\n",
    "string2 = \"defgabc\"\n",
    "result = are_rotations(string1, string2)\n",
    "print(result) "
   ]
  },
  {
   "cell_type": "markdown",
   "id": "5d3f785a",
   "metadata": {},
   "source": [
    "Q4. Write a program to print the first non-repeated character from a string?"
   ]
  },
  {
   "cell_type": "code",
   "execution_count": 8,
   "id": "1a17d601",
   "metadata": {},
   "outputs": [],
   "source": [
    "def first_non_repeated_char(input_str):\n",
    "    char_count = {} \n",
    "\n",
    "    for char in input_str:\n",
    "        if char in char_count:\n",
    "            char_count[char] += 1\n",
    "        else:\n",
    "            char_count[char] = 1\n",
    "\n",
    "    for char in input_str:\n",
    "        if char_count[char] == 1:\n",
    "            return char\n",
    "\n",
    "    return None"
   ]
  },
  {
   "cell_type": "code",
   "execution_count": 9,
   "id": "5089b925",
   "metadata": {},
   "outputs": [
    {
     "name": "stdout",
     "output_type": "stream",
     "text": [
      "The first non-repeated character is: p\n"
     ]
    }
   ],
   "source": [
    "input_string = \"programming\"\n",
    "result = first_non_repeated_char(input_string)\n",
    "if result is not None:\n",
    "    print(\"The first non-repeated character is:\", result)\n",
    "else:\n",
    "    print(\"There are no non-repeated characters in the string.\")\n"
   ]
  },
  {
   "cell_type": "markdown",
   "id": "8ebde3da",
   "metadata": {},
   "source": [
    "Q5. Read about the Tower of Hanoi algorithm. Write a program to implement it."
   ]
  },
  {
   "cell_type": "code",
   "execution_count": 10,
   "id": "796898f0",
   "metadata": {},
   "outputs": [],
   "source": [
    "def tower_of_hanoi(n, source_rod, auxiliary_rod, target_rod):\n",
    "    if n == 1:\n",
    "        print(f\"Move disk 1 from {source_rod} to {target_rod}\")\n",
    "        return\n",
    "    tower_of_hanoi(n - 1, source_rod, target_rod, auxiliary_rod)\n",
    "    print(f\"Move disk {n} from {source_rod} to {target_rod}\")\n",
    "    tower_of_hanoi(n - 1, auxiliary_rod, source_rod, target_rod)"
   ]
  },
  {
   "cell_type": "code",
   "execution_count": 11,
   "id": "74b1655c",
   "metadata": {},
   "outputs": [
    {
     "name": "stdout",
     "output_type": "stream",
     "text": [
      "Move disk 1 from A to C\n",
      "Move disk 2 from A to B\n",
      "Move disk 1 from C to B\n",
      "Move disk 3 from A to C\n",
      "Move disk 1 from B to A\n",
      "Move disk 2 from B to C\n",
      "Move disk 1 from A to C\n"
     ]
    }
   ],
   "source": [
    "num_disks = 3\n",
    "tower_of_hanoi(num_disks, 'A', 'B', 'C')"
   ]
  },
  {
   "cell_type": "markdown",
   "id": "2b954a89",
   "metadata": {},
   "source": [
    "Q6. Read about infix, prefix, and postfix expressions. Write a program to convert postfix to prefix expression."
   ]
  },
  {
   "cell_type": "code",
   "execution_count": 12,
   "id": "11992732",
   "metadata": {},
   "outputs": [],
   "source": [
    "def postfix_to_prefix(postfix_expression):\n",
    "    stack = []\n",
    "    \n",
    "    for token in postfix_expression.split():\n",
    "        if token.isnumeric():\n",
    "            stack.append(token)\n",
    "        else:\n",
    "            operand2 = stack.pop()\n",
    "            operand1 = stack.pop()\n",
    "            stack.append(token + operand1 + operand2)\n",
    "    \n",
    "    return stack[0]"
   ]
  },
  {
   "cell_type": "code",
   "execution_count": 14,
   "id": "fcecbf22",
   "metadata": {},
   "outputs": [
    {
     "name": "stdout",
     "output_type": "stream",
     "text": [
      "Prefix expression: +23\n"
     ]
    }
   ],
   "source": [
    "postfix_expression = \"2 3 +\"\n",
    "prefix_expression = postfix_to_prefix(postfix_expression)\n",
    "print(\"Prefix expression:\", prefix_expression) "
   ]
  },
  {
   "cell_type": "markdown",
   "id": "d20e06e3",
   "metadata": {},
   "source": [
    "Q7. Write a program to convert prefix expression to infix expression."
   ]
  },
  {
   "cell_type": "code",
   "execution_count": 15,
   "id": "56dbed0c",
   "metadata": {},
   "outputs": [],
   "source": [
    "def is_operator(char):\n",
    "    return char in '+-*/'\n",
    "\n",
    "def prefix_to_infix(prefix_expression):\n",
    "    stack = []\n",
    "    \n",
    "    reversed_expression = prefix_expression[::-1]\n",
    "    \n",
    "    for char in reversed_expression:\n",
    "        if not is_operator(char):\n",
    "            stack.append(char)\n",
    "        else:\n",
    "            operand1 = stack.pop()\n",
    "            operand2 = stack.pop()\n",
    "            infix_expression = f\"({operand1}{char}{operand2})\"\n",
    "            stack.append(infix_expression)\n",
    "    \n",
    "    return stack[0]"
   ]
  },
  {
   "cell_type": "code",
   "execution_count": 17,
   "id": "b8ac3475",
   "metadata": {},
   "outputs": [
    {
     "name": "stdout",
     "output_type": "stream",
     "text": [
      "Infix expression: ((A*B)+(C/D))\n"
     ]
    }
   ],
   "source": [
    "prefix_expression = \"+*AB/CD\"\n",
    "infix_expression = prefix_to_infix(prefix_expression)\n",
    "print(\"Infix expression:\", infix_expression) \n"
   ]
  },
  {
   "cell_type": "markdown",
   "id": "2b874229",
   "metadata": {},
   "source": [
    "Q8. Write a program to check if all the brackets are closed in a given code snippet."
   ]
  },
  {
   "cell_type": "code",
   "execution_count": 18,
   "id": "9dd2fedf",
   "metadata": {},
   "outputs": [],
   "source": [
    "def are_brackets_balanced(code_snippet):\n",
    "    stack = []\n",
    "    \n",
    "    bracket_mapping = {')': '(', '}': '{', ']': '['}\n",
    "    \n",
    "  \n",
    "    for char in code_snippet:\n",
    "       \n",
    "        if char in '({[':\n",
    "            stack.append(char)\n",
    "       \n",
    "        elif char in ')}]':\n",
    "          \n",
    "            if not stack or stack[-1] != bracket_mapping[char]:\n",
    "                return False\n",
    "         \n",
    "            stack.pop()\n",
    "    \n",
    "  \n",
    "    return not stack"
   ]
  },
  {
   "cell_type": "code",
   "execution_count": 19,
   "id": "336d8c88",
   "metadata": {},
   "outputs": [
    {
     "name": "stdout",
     "output_type": "stream",
     "text": [
      "All brackets are balanced.\n"
     ]
    }
   ],
   "source": [
    "code_snippet = \"{[()]}\"\n",
    "result = are_brackets_balanced(code_snippet)\n",
    "if result:\n",
    "    print(\"All brackets are balanced.\")\n",
    "else:\n",
    "    print(\"Brackets are not balanced.\")"
   ]
  },
  {
   "cell_type": "markdown",
   "id": "99dbfb60",
   "metadata": {},
   "source": [
    "Q9. Write a program to reverse a stack."
   ]
  },
  {
   "cell_type": "code",
   "execution_count": 20,
   "id": "ae60dcc7",
   "metadata": {},
   "outputs": [],
   "source": [
    "class Stack:\n",
    "    def __init__(self):\n",
    "        self.items = []\n",
    "\n",
    "    def is_empty(self):\n",
    "        return len(self.items) == 0\n",
    "\n",
    "    def push(self, item):\n",
    "        self.items.append(item)\n",
    "\n",
    "    def pop(self):\n",
    "        if not self.is_empty():\n",
    "            return self.items.pop()\n",
    "\n",
    "    def peek(self):\n",
    "        if not self.is_empty():\n",
    "            return self.items[-1]\n",
    "\n",
    "    def size(self):\n",
    "        return len(self.items)\n",
    "\n",
    "def reverse_stack(stack):\n",
    "    if stack.is_empty():\n",
    "        return\n",
    "\n",
    "    \n",
    "    aux_stack = Stack()\n",
    "\n",
    "   \n",
    "    while not stack.is_empty():\n",
    "        aux_stack.push(stack.pop())\n",
    "\n",
    " \n",
    "    while not aux_stack.is_empty():\n",
    "        stack.push(aux_stack.pop())"
   ]
  },
  {
   "cell_type": "code",
   "execution_count": 21,
   "id": "6870f578",
   "metadata": {},
   "outputs": [
    {
     "name": "stdout",
     "output_type": "stream",
     "text": [
      "Original Stack: [1, 2, 3, 4]\n",
      "Reversed Stack: [1, 2, 3, 4]\n"
     ]
    }
   ],
   "source": [
    "s = Stack()\n",
    "s.push(1)\n",
    "s.push(2)\n",
    "s.push(3)\n",
    "s.push(4)\n",
    "\n",
    "print(\"Original Stack:\", s.items)\n",
    "reverse_stack(s)\n",
    "print(\"Reversed Stack:\", s.items)"
   ]
  },
  {
   "cell_type": "markdown",
   "id": "cbb764d7",
   "metadata": {},
   "source": [
    "Q10. Write a program to find the smallest number using a stack."
   ]
  },
  {
   "cell_type": "code",
   "execution_count": 24,
   "id": "0b26cd6a",
   "metadata": {},
   "outputs": [],
   "source": [
    "class StackWithMin:\n",
    "    def __init__(self):\n",
    "        self.stack = [] \n",
    "        self.min_stack = []  \n",
    "\n",
    "    def is_empty(self):\n",
    "        return len(self.stack) == 0\n",
    "\n",
    "    def push(self, item):\n",
    "        self.stack.append(item)\n",
    "     \n",
    "        if not self.min_stack or item <= self.min_stack[-1]:\n",
    "            self.min_stack.append(item)\n",
    "\n",
    "    def pop(self):\n",
    "        if not self.is_empty():\n",
    "            popped_item = self.stack.pop()\n",
    "        \n",
    "            if popped_item == self.min_stack[-1]:\n",
    "                self.min_stack.pop()\n",
    "            return popped_item\n",
    "\n",
    "    def peek(self):\n",
    "        if not self.is_empty():\n",
    "            return self.stack[-1]\n",
    "\n",
    "    def get_min(self):\n",
    "        if not self.min_stack:\n",
    "            return None\n",
    "        return self.min_stack[-1]"
   ]
  },
  {
   "cell_type": "code",
   "execution_count": 23,
   "id": "acee76cf",
   "metadata": {},
   "outputs": [
    {
     "name": "stdout",
     "output_type": "stream",
     "text": [
      "Minimum element in the stack: 1\n"
     ]
    }
   ],
   "source": [
    "stack = StackWithMin()\n",
    "stack.push(3)\n",
    "stack.push(5)\n",
    "stack.push(2)\n",
    "stack.push(1)\n",
    "\n",
    "print(\"Minimum element in the stack:\", stack.get_min()) \n"
   ]
  }
 ],
 "metadata": {
  "kernelspec": {
   "display_name": "Python 3 (ipykernel)",
   "language": "python",
   "name": "python3"
  },
  "language_info": {
   "codemirror_mode": {
    "name": "ipython",
    "version": 3
   },
   "file_extension": ".py",
   "mimetype": "text/x-python",
   "name": "python",
   "nbconvert_exporter": "python",
   "pygments_lexer": "ipython3",
   "version": "3.10.9"
  }
 },
 "nbformat": 4,
 "nbformat_minor": 5
}
