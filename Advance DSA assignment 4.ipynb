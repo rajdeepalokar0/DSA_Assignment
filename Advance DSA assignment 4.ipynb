{
 "cells": [
  {
   "cell_type": "markdown",
   "id": "2e2e3279",
   "metadata": {},
   "source": [
    "Assignment-4: Graphs"
   ]
  },
  {
   "cell_type": "markdown",
   "id": "c9945af0",
   "metadata": {},
   "source": [
    "1.Breadth First Traversal for a Graph"
   ]
  },
  {
   "cell_type": "code",
   "execution_count": 1,
   "id": "9687af37",
   "metadata": {},
   "outputs": [],
   "source": [
    "from collections import defaultdict, deque\n",
    "\n",
    "class Graph:\n",
    "    def __init__(self):\n",
    "        self.graph = defaultdict(list)\n",
    "\n",
    "    def add_edge(self, u, v):\n",
    "        self.graph[u].append(v)\n",
    "\n",
    "    def bfs(self, start_vertex):\n",
    "        visited = set()\n",
    "        queue = deque()\n",
    "\n",
    "        queue.append(start_vertex)\n",
    "        visited.add(start_vertex)\n",
    "\n",
    "        while queue:\n",
    "            current_vertex = queue.popleft()\n",
    "            print(current_vertex, end=' ')\n",
    "\n",
    "            for neighbor in self.graph[current_vertex]:\n",
    "                if neighbor not in visited:\n",
    "                    queue.append(neighbor)\n",
    "                    visited.add(neighbor)"
   ]
  },
  {
   "cell_type": "code",
   "execution_count": 2,
   "id": "bea3b54d",
   "metadata": {},
   "outputs": [
    {
     "name": "stdout",
     "output_type": "stream",
     "text": [
      "Breadth First Traversal (starting from vertex 2):\n",
      "2 0 3 1 "
     ]
    }
   ],
   "source": [
    "g = Graph()\n",
    "g.add_edge(0, 1)\n",
    "g.add_edge(0, 2)\n",
    "g.add_edge(1, 2)\n",
    "g.add_edge(2, 0)\n",
    "g.add_edge(2, 3)\n",
    "g.add_edge(3, 3)\n",
    "\n",
    "print(\"Breadth First Traversal (starting from vertex 2):\")\n",
    "g.bfs(2)"
   ]
  },
  {
   "cell_type": "markdown",
   "id": "0a2aafa2",
   "metadata": {},
   "source": [
    "2.Depth First Traversal for a Graph"
   ]
  },
  {
   "cell_type": "code",
   "execution_count": 3,
   "id": "e40dac93",
   "metadata": {},
   "outputs": [],
   "source": [
    "class Graph:\n",
    "    def __init__(self):\n",
    "        self.graph = {}\n",
    "\n",
    "    def add_edge(self, vertex, neighbor):\n",
    "        if vertex in self.graph:\n",
    "            self.graph[vertex].append(neighbor)\n",
    "        else:\n",
    "            self.graph[vertex] = [neighbor]\n",
    "\n",
    "    def dfs(self, start_vertex):\n",
    "        visited = set()\n",
    "\n",
    "        def dfs_recursive(vertex):\n",
    "            visited.add(vertex)\n",
    "            print(vertex, end=' ')\n",
    "\n",
    "            if vertex in self.graph:\n",
    "                for neighbor in self.graph[vertex]:\n",
    "                    if neighbor not in visited:\n",
    "                        dfs_recursive(neighbor)\n",
    "\n",
    "        dfs_recursive(start_vertex)"
   ]
  },
  {
   "cell_type": "code",
   "execution_count": 4,
   "id": "c71f48e3",
   "metadata": {},
   "outputs": [
    {
     "name": "stdout",
     "output_type": "stream",
     "text": [
      "Depth-First Traversal starting from vertex 'A':\n",
      "A B D E C F "
     ]
    }
   ],
   "source": [
    "if __name__ == \"__main__\":\n",
    "    g = Graph()\n",
    "    g.add_edge('A', 'B')\n",
    "    g.add_edge('A', 'C')\n",
    "    g.add_edge('B', 'D')\n",
    "    g.add_edge('B', 'E')\n",
    "    g.add_edge('C', 'F')\n",
    "\n",
    "    print(\"Depth-First Traversal starting from vertex 'A':\")\n",
    "    g.dfs('A')\n"
   ]
  },
  {
   "cell_type": "markdown",
   "id": "ae367bae",
   "metadata": {},
   "source": [
    "3.Count the number of nodes at given level in a tree using BFS"
   ]
  },
  {
   "cell_type": "code",
   "execution_count": 12,
   "id": "4e1e792c",
   "metadata": {},
   "outputs": [],
   "source": [
    "class TreeNode:\n",
    "    def __init__(self, val=0, left=None, right=None):\n",
    "        self.val = val\n",
    "        self.left = left\n",
    "        self.right = right\n",
    "\n",
    "def countNodesAtLevel(root, target_level):\n",
    "    if not root:\n",
    "        return 0\n",
    "\n",
    "    queue = [(root, 0)]  # Initialize a queue with the root node and its level\n",
    "    count = 0\n",
    "\n",
    "    while queue:\n",
    "        node, level = queue.pop(0)\n",
    "\n",
    "        if level == target_level:\n",
    "            count += 1  # Node is at the target level\n",
    "\n",
    "        if node.left:\n",
    "            queue.append((node.left, level + 1))\n",
    "        if node.right:\n",
    "            queue.append((node.right, level + 1))\n",
    "\n",
    "    return count"
   ]
  },
  {
   "cell_type": "markdown",
   "id": "7fdfba4b",
   "metadata": {},
   "source": [
    "4.Count number of trees in a forest"
   ]
  },
  {
   "cell_type": "code",
   "execution_count": null,
   "id": "f5db4680",
   "metadata": {},
   "outputs": [],
   "source": [
    "from collections import defaultdict\n",
    "class Graph:\n",
    "    def __init__(self):\n",
    "        self.graph = defaultdict(list)\n",
    "\n",
    "    def add_edge(self, u, v):\n",
    "        self.graph[u].append(v)\n",
    "\n",
    "    def count_trees(self):\n",
    "        visited = set()\n",
    "        num_trees = 0\n",
    "\n",
    "        for node in self.graph:\n",
    "            if node not in visited:\n",
    "                self.dfs(node, visited)\n",
    "                num_trees += 1\n",
    "\n",
    "        return num_trees\n",
    "\n",
    "    def dfs(self, node, visited):\n",
    "        visited.add(node)\n",
    "\n",
    "        for neighbor in self.graph[node]:\n",
    "            if neighbor not in visited:\n",
    "                self.dfs(neighbor, visited)\n",
    "\n",
    "# Example usage:\n",
    "if __name__ == \"__main__\":\n",
    "    g = Graph()\n",
    "    g.add_edge(0, 1)\n",
    "    g.add_edge(0, 2)\n",
    "    g.add_edge(3, 4)\n",
    "\n",
    "    num_trees = g.count_trees()\n",
    "    print(\"Number of trees in the forest:\", num_trees)"
   ]
  },
  {
   "cell_type": "markdown",
   "id": "e41834f5",
   "metadata": {},
   "source": [
    "5.Detect Cycle in a Directed Graph"
   ]
  },
  {
   "cell_type": "code",
   "execution_count": 16,
   "id": "eb1b7792",
   "metadata": {},
   "outputs": [],
   "source": [
    "class Graph:\n",
    "    def __init__(self, vertices):\n",
    "        self.vertices = vertices\n",
    "        self.graph = defaultdict(list)\n",
    "\n",
    "    def add_edge(self, u, v):\n",
    "        self.graph[u].append(v)\n",
    "\n",
    "    def is_cyclic_util(self, v, visited, rec_stack):\n",
    "        visited[v] = True\n",
    "        rec_stack[v] = True\n",
    "\n",
    "        for neighbor in self.graph[v]:\n",
    "            if not visited[neighbor]:\n",
    "                if self.is_cyclic_util(neighbor, visited, rec_stack):\n",
    "                    return True\n",
    "            elif rec_stack[neighbor]:\n",
    "                return True\n",
    "\n",
    "        rec_stack[v] = False\n",
    "        return False\n",
    "\n",
    "    def is_cyclic(self):\n",
    "        visited = [False] * self.vertices\n",
    "        rec_stack = [False] * self.vertices\n",
    "\n",
    "        for i in range(self.vertices):\n",
    "            if not visited[i]:\n",
    "                if self.is_cyclic_util(i, visited, rec_stack):\n",
    "                    return True\n",
    "\n",
    "        return False"
   ]
  },
  {
   "cell_type": "code",
   "execution_count": 17,
   "id": "35abb8c9",
   "metadata": {},
   "outputs": [
    {
     "name": "stdout",
     "output_type": "stream",
     "text": [
      "Graph contains a cycle\n"
     ]
    }
   ],
   "source": [
    "\n",
    "g = Graph(4)\n",
    "g.add_edge(0, 1)\n",
    "g.add_edge(0, 2)\n",
    "g.add_edge(1, 2)\n",
    "g.add_edge(2, 0)\n",
    "g.add_edge(2, 3)\n",
    "g.add_edge(3, 3)\n",
    "\n",
    "if g.is_cyclic():\n",
    "    print(\"Graph contains a cycle\")\n",
    "else:\n",
    "    print(\"Graph does not contain a cycle\")\n"
   ]
  },
  {
   "cell_type": "markdown",
   "id": "3ef8dee0",
   "metadata": {},
   "source": [
    "6.Below question is a miscellaneous question\n",
    "**Implement n-Queen’s Problem"
   ]
  },
  {
   "cell_type": "code",
   "execution_count": 18,
   "id": "aec4d6b8",
   "metadata": {},
   "outputs": [],
   "source": [
    "def solve_n_queens(n):\n",
    "    def is_safe(board, row, col):\n",
    "        # Check if it's safe to place a queen at board[row][col]\n",
    "        # Check the row\n",
    "        for i in range(col):\n",
    "            if board[row][i] == 1:\n",
    "                return False\n",
    "        # Check upper-left diagonal\n",
    "        for i, j in zip(range(row, -1, -1), range(col, -1, -1)):\n",
    "            if board[i][j] == 1:\n",
    "                return False\n",
    "        # Check lower-left diagonal\n",
    "        for i, j in zip(range(row, n), range(col, -1, -1)):\n",
    "            if board[i][j] == 1:\n",
    "                return False\n",
    "        return True\n",
    "\n",
    "    def solve(board, col):\n",
    "        # Base case: If all queens are placed, return True\n",
    "        if col >= n:\n",
    "            return True\n",
    "        for i in range(n):\n",
    "            if is_safe(board, i, col):\n",
    "                # Place the queen\n",
    "                board[i][col] = 1\n",
    "                # Recur for the next column\n",
    "                if solve(board, col + 1):\n",
    "                    return True\n",
    "                # If placing the queen in board[i][col] doesn't lead to a solution,\n",
    "                # then remove it (backtrack)\n",
    "                board[i][col] = 0\n",
    "        # If the queen cannot be placed in any row of this column, return False\n",
    "        return False\n",
    "\n",
    "    # Initialize the chessboard\n",
    "    chessboard = [[0 for _ in range(n)] for _ in range(n)]\n",
    "\n",
    "    if solve(chessboard, 0):\n",
    "        # Print the solution\n",
    "        for row in chessboard:\n",
    "            print(' '.join(map(str, row)))\n",
    "    else:\n",
    "        print(\"No solution exists.\")"
   ]
  },
  {
   "cell_type": "code",
   "execution_count": 19,
   "id": "8d9e7814",
   "metadata": {},
   "outputs": [
    {
     "name": "stdout",
     "output_type": "stream",
     "text": [
      "1 0 0 0 0 0 0 0\n",
      "0 0 0 0 0 0 1 0\n",
      "0 0 0 0 1 0 0 0\n",
      "0 0 0 0 0 0 0 1\n",
      "0 1 0 0 0 0 0 0\n",
      "0 0 0 1 0 0 0 0\n",
      "0 0 0 0 0 1 0 0\n",
      "0 0 1 0 0 0 0 0\n"
     ]
    }
   ],
   "source": [
    "n = 8  # Change this to the desired board size\n",
    "solve_n_queens(n)\n"
   ]
  }
 ],
 "metadata": {
  "kernelspec": {
   "display_name": "Python 3 (ipykernel)",
   "language": "python",
   "name": "python3"
  },
  "language_info": {
   "codemirror_mode": {
    "name": "ipython",
    "version": 3
   },
   "file_extension": ".py",
   "mimetype": "text/x-python",
   "name": "python",
   "nbconvert_exporter": "python",
   "pygments_lexer": "ipython3",
   "version": "3.10.9"
  }
 },
 "nbformat": 4,
 "nbformat_minor": 5
}
